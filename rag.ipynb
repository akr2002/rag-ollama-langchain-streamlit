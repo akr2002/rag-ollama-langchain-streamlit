{
 "cells": [
  {
   "cell_type": "code",
   "execution_count": 1,
   "id": "dce26193-ed15-44a0-b29f-b3af6a104a95",
   "metadata": {},
   "outputs": [],
   "source": [
    "from langchain_community.vectorstores import Chroma\n",
    "from langchain_community.chat_models import ChatOllama\n",
    "from langchain_community.embeddings import FastEmbedEmbeddings\n",
    "from langchain.schema.output_parser import StrOutputParser\n",
    "from langchain_community.document_loaders import PyPDFLoader\n",
    "from langchain.text_splitter import RecursiveCharacterTextSplitter\n",
    "from langchain.schema.runnable import RunnablePassthrough\n",
    "from langchain.prompts import PromptTemplate\n",
    "from langchain.vectorstores.utils import filter_complex_metadata"
   ]
  },
  {
   "cell_type": "code",
   "execution_count": 3,
   "id": "2ca8df71-b786-42a5-ab55-00adf904b689",
   "metadata": {},
   "outputs": [],
   "source": [
    "class ChatPDF:\n",
    "    vector_store = None\n",
    "    retriever = None\n",
    "    chain = None\n",
    "\n",
    "    def __init__(self):\n",
    "        self.model = ChatOllama(model=\"llama3.2:1b\")\n",
    "        self.text_splitter = RecursiveCharacterTextSplitter(chunk_size=1024, chunk_overlap=100)\n",
    "        self.prompt = PromptTemplate.from_template(\n",
    "        '''\n",
    "        [INST]<<SYS>> You are an assistant for question-answering tasks. Use the following pieces of retrieved context to answer the question. If you don't know the answer, just say that you don't know. Use three sentences maximum and keep the answer concise.<</SYS>> \n",
    "        Question: {question} \n",
    "        Context: {context} \n",
    "        Answer: [/INST]\n",
    "        '''\n",
    "        )\n",
    "\n",
    "    def ingest(self, pdf_file_path: str):\n",
    "        docs = PyPDFLoader(file_path=pdf_file_path).load()\n",
    "        chunks = self.text_splitter.split_documents(docs)\n",
    "        chunks = filter_complex_metadata(chunks)\n",
    "\n",
    "        vector_store = Chroma.from_documents(documents=chunks, embedding=FastEmbedEmbeddings())\n",
    "        self.retriever = vector_store.as_retriever(\n",
    "            search_type=\"similarity_score_threshold\",\n",
    "            search_kwargs={\n",
    "            \"k\": 3,\n",
    "            \"score_threshold\": 0.5,\n",
    "            },\n",
    "        )\n",
    "\n",
    "        self.chain = ({\"context\": self.retriever, \"question\": RunnablePassthrough()} | self.prompt | self.model | StrOutputParser())\n",
    "\n",
    "    def ask(self, query: str):\n",
    "        if not self.chain:\n",
    "            return \"Please add a PDF document\"\n",
    "\n",
    "    def clear(self):\n",
    "        self.vector_store = None\n",
    "        self.retriever = None\n",
    "        self.chain = None"
   ]
  },
  {
   "cell_type": "code",
   "execution_count": null,
   "id": "2f371054-97b5-47d1-aa8f-f81022fd9898",
   "metadata": {},
   "outputs": [],
   "source": []
  }
 ],
 "metadata": {
  "kernelspec": {
   "display_name": "Python 3 (ipykernel)",
   "language": "python",
   "name": "python3"
  },
  "language_info": {
   "codemirror_mode": {
    "name": "ipython",
    "version": 3
   },
   "file_extension": ".py",
   "mimetype": "text/x-python",
   "name": "python",
   "nbconvert_exporter": "python",
   "pygments_lexer": "ipython3",
   "version": "3.12.7"
  }
 },
 "nbformat": 4,
 "nbformat_minor": 5
}
